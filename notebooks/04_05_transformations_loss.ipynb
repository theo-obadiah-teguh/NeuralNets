{
 "cells": [
  {
   "cell_type": "markdown",
   "id": "8eb030e1-d607-42ea-ace5-c7d0728e0c31",
   "metadata": {},
   "source": [
    "# SIGNA Chapter 4 and 5 Implementation"
   ]
  },
  {
   "cell_type": "code",
   "execution_count": null,
   "id": "b57bce6a-5a94-479b-b200-bb06631a0958",
   "metadata": {},
   "outputs": [],
   "source": []
  }
 ],
 "metadata": {
  "kernelspec": {
   "display_name": "Python 3 (ipykernel)",
   "language": "python",
   "name": "python3"
  },
  "language_info": {
   "codemirror_mode": {
    "name": "ipython",
    "version": 3
   },
   "file_extension": ".py",
   "mimetype": "text/x-python",
   "name": "python",
   "nbconvert_exporter": "python",
   "pygments_lexer": "ipython3",
   "version": "3.13.5"
  }
 },
 "nbformat": 4,
 "nbformat_minor": 5
}
