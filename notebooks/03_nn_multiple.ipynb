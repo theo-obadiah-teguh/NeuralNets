{
 "cells": [
  {
   "cell_type": "markdown",
   "id": "5d4aa9dc-dbc5-4b6d-83ce-a2e451d9957b",
   "metadata": {},
   "source": [
    "# SIGNA Chapter 3 Implementation\n",
    "This is the first time we'll be implementing fully-connected layers, also known as \"dense\" layers. We'll be using `nn.Linear()` for this functionality. We'll also use the Adam optimizer, and include some `scikit-learn` train-test splits."
   ]
  },
  {
   "cell_type": "code",
   "execution_count": 1,
   "id": "771e34ac-815b-4fca-bc64-872b79b75112",
   "metadata": {},
   "outputs": [],
   "source": [
    "import torch\n",
    "import torch.nn as nn\n",
    "import torch.nn.functional as F\n",
    "from torch.optim import Adam\n",
    "\n",
    "import lightning as L\n",
    "from torch.utils.data import TensorDataset, DataLoader"
   ]
  },
  {
   "cell_type": "markdown",
   "id": "0da8b012-d835-4689-80f2-157acf4b6e94",
   "metadata": {},
   "source": [
    "## Designing our Neural Net"
   ]
  },
  {
   "cell_type": "code",
   "execution_count": 2,
   "id": "dffec92a-f74d-4564-bf75-ddaae8e4e5b4",
   "metadata": {},
   "outputs": [],
   "source": [
    "class myNN(L.LightningModule):\n",
    "    def __init__(self):\n",
    "        super().__init__()\n",
    "\n",
    "        # For convenience, use the same seed as the book\n",
    "        L.seed_everything(seed=42)\n",
    "\n",
    "        # Initialize the layers\n",
    "        self.input_to_hidden = nn.Linear(in_features=2, out_features=2, bias=True)\n",
    "        self.hidden_to_output = nn.Linear(in_features=2, out_features=3, bias=True)\n",
    "\n",
    "        # Determine the loss function we want to use\n",
    "        self.loss = nn.MSELoss(reduction='sum')\n",
    "\n",
    "    def forward(self, input_values):\n",
    "        # Here we specify how the architecture actually computes outputs\n",
    "        output_values = self.input_to_hidden(input_values)\n",
    "        output_values = F.relu(output_values)\n",
    "        output_values = self.hidden_to_output(output_values)\n",
    "        return output_values\n",
    "\n",
    "    def configure_optimizers(self):\n",
    "        # We try out the Adam optimizer\n",
    "        return Adam(self.parameters(), lr=0.001)\n",
    "\n",
    "    def training_step(self, batch):\n",
    "        # This method basically runs one epoch\n",
    "        # Pass training data to forward() and calculate loss\n",
    "        inputs, labels = batch\n",
    "        outputs = self.forward(inputs)\n",
    "        loss = self.loss(outputs, labels)\n",
    "        return loss"
   ]
  },
  {
   "cell_type": "markdown",
   "id": "e68882f6-f90a-4855-98b1-16801e380a61",
   "metadata": {},
   "source": [
    "## Some Data Wrangling"
   ]
  },
  {
   "cell_type": "code",
   "execution_count": 3,
   "id": "98365862-67a4-498f-b8ce-18cfbfb3654b",
   "metadata": {},
   "outputs": [],
   "source": [
    "import pandas as pd\n",
    "from sklearn.model_selection import train_test_split\n",
    "from sklearn.preprocessing import MinMaxScaler"
   ]
  },
  {
   "cell_type": "code",
   "execution_count": 4,
   "id": "88e2d6d0-0b43-4696-80d1-8810b53e99d6",
   "metadata": {},
   "outputs": [],
   "source": [
    "# Read the data\n",
    "url = \"https://raw.githubusercontent.com/StatQuest/signa/main/chapter_03/iris.txt\"\n",
    "df = pd.read_table(url, sep=\",\", header=None)\n",
    "\n",
    "# Rename the columns\n",
    "df.columns = [\"sepal_length\",\n",
    "              \"sepal_width\",\n",
    "              \"petal_length\",\n",
    "              \"petal_width\",\n",
    "              \"class\"]"
   ]
  },
  {
   "cell_type": "code",
   "execution_count": 5,
   "id": "54074a5e-0ea4-4696-a911-ab93119c4e97",
   "metadata": {
    "scrolled": true
   },
   "outputs": [
    {
     "name": "stdout",
     "output_type": "stream",
     "text": [
      "3 \n",
      "\n",
      "['Iris-setosa' 'Iris-versicolor' 'Iris-virginica'] \n",
      "\n",
      "class\n",
      "Iris-setosa        50\n",
      "Iris-versicolor    50\n",
      "Iris-virginica     50\n",
      "Name: count, dtype: int64\n"
     ]
    }
   ],
   "source": [
    "# Check the number of classes\n",
    "print(df['class'].nunique(), \"\\n\")\n",
    "\n",
    "# See the classes\n",
    "print(df['class'].unique(), \"\\n\")\n",
    "\n",
    "# See the frequencies per class, to see if the dataset is balanced\n",
    "print(df['class'].value_counts())"
   ]
  },
  {
   "cell_type": "code",
   "execution_count": 6,
   "id": "39292893-57ec-48e5-a875-f37e2e9a2387",
   "metadata": {},
   "outputs": [],
   "source": [
    "# Separate the actual input values\n",
    "input_values = df[['petal_width', 'sepal_width']]\n",
    "\n",
    "# Factorize the class labels\n",
    "classes_as_numbers = df['class'].factorize()[0]\n",
    "\n",
    "# Make a 75-25 train-test split\n",
    "# Without stratify, you might get uneven class distributions between train/test sets. \n",
    "# With stratify, each set maintains the same proportion of each class as the original dataset.\n",
    "input_train, input_test, label_train, label_test = train_test_split(input_values,\n",
    "                                                                    classes_as_numbers,\n",
    "                                                                    test_size=0.25,\n",
    "                                                                    stratify=classes_as_numbers)"
   ]
  },
  {
   "cell_type": "code",
   "execution_count": 7,
   "id": "b5f9f238-f580-44c1-ad2d-b7a06fd3c1c6",
   "metadata": {},
   "outputs": [
    {
     "data": {
      "text/plain": [
       "array([2, 1, 2, 0, 2, 2, 1, 0, 1, 2, 0, 2, 2, 1, 2, 2, 0, 1, 0, 1, 2, 2,\n",
       "       2, 0, 1, 0, 0, 2, 0, 0, 0, 2, 1, 0, 1, 2, 1, 0, 2, 2, 1, 2, 2, 2,\n",
       "       1, 1, 0, 0, 1, 1, 2, 2, 2, 1, 1, 0, 0, 1, 0, 1, 1, 1, 1, 2, 2, 1,\n",
       "       2, 0, 1, 2, 0, 1, 1, 1, 2, 1, 1, 2, 0, 0, 0, 2, 0, 2, 1, 2, 0, 1,\n",
       "       0, 0, 0, 0, 0, 0, 0, 2, 2, 1, 1, 0, 1, 2, 1, 0, 1, 1, 0, 0, 2, 0,\n",
       "       0, 2])"
      ]
     },
     "execution_count": 7,
     "metadata": {},
     "output_type": "execute_result"
    }
   ],
   "source": [
    "# Check out how the labels are structured\n",
    "label_train"
   ]
  },
  {
   "cell_type": "code",
   "execution_count": 8,
   "id": "5227c23a-8b9c-424d-923e-b3454dc46606",
   "metadata": {
    "scrolled": true
   },
   "outputs": [
    {
     "data": {
      "text/plain": [
       "tensor([[0., 0., 1.],\n",
       "        [0., 1., 0.],\n",
       "        [0., 0., 1.],\n",
       "        [1., 0., 0.],\n",
       "        [0., 0., 1.],\n",
       "        [0., 0., 1.],\n",
       "        [0., 1., 0.],\n",
       "        [1., 0., 0.],\n",
       "        [0., 1., 0.],\n",
       "        [0., 0., 1.]])"
      ]
     },
     "execution_count": 8,
     "metadata": {},
     "output_type": "execute_result"
    }
   ],
   "source": [
    "# Instead of classes 0-2, we want this to be three-element arrays\n",
    "one_hot_label_train = F.one_hot(torch.tensor(label_train), num_classes=3).type(torch.float32)\n",
    "one_hot_label_train[:10]"
   ]
  },
  {
   "cell_type": "code",
   "execution_count": 9,
   "id": "ca448b19-bf36-4499-a70c-b798c73cd53a",
   "metadata": {},
   "outputs": [],
   "source": [
    "# Perform Min-Max Scaling with TRAINING min and max. \n",
    "# Use this on both training and testing to avoid data leakage\n",
    "# Note: Min-Max Scaling = (input - min) / (max - min)\n",
    "\n",
    "# CORRECT way with scikit-learn\n",
    "scaler = MinMaxScaler()\n",
    "\n",
    "# Fit only on training data\n",
    "scaler.fit(input_train)\n",
    "\n",
    "# Transform both datasets\n",
    "input_train_normalized = scaler.transform(input_train)\n",
    "input_test_normalized = scaler.transform(input_test)  # Uses training stats"
   ]
  },
  {
   "cell_type": "code",
   "execution_count": 10,
   "id": "42a743f9-20c0-4c77-8a35-af35e58129ea",
   "metadata": {},
   "outputs": [],
   "source": [
    "# Convert the DataFrame input_train into tensors\n",
    "input_train_tensors = torch.tensor(input_train.values).type(torch.float32)\n",
    "\n",
    "# Load training data to dataloaders\n",
    "train_dataset = TensorDataset(input_train_tensors, one_hot_label_train)\n",
    "train_dataloader = DataLoader(train_dataset)\n",
    "\n",
    "# Convert the DataFrame input_test into tensors\n",
    "input_test_tensors = torch.tensor(input_test.values).type(torch.float32)"
   ]
  },
  {
   "cell_type": "markdown",
   "id": "7dd7d9ab-483a-4b25-a80d-a4ded7bb8c65",
   "metadata": {},
   "source": [
    "## Training Our Neural Net: Part 1"
   ]
  },
  {
   "cell_type": "code",
   "execution_count": 11,
   "id": "c99f0167-c2c0-456f-8f58-77419d25a1fb",
   "metadata": {},
   "outputs": [
    {
     "name": "stderr",
     "output_type": "stream",
     "text": [
      "Seed set to 42\n"
     ]
    },
    {
     "name": "stdout",
     "output_type": "stream",
     "text": [
      "input_to_hidden.weight tensor([[ 0.5400,  0.5900],\n",
      "        [-0.1700,  0.6500]])\n",
      "input_to_hidden.bias tensor([-0.1500,  0.1400])\n",
      "hidden_to_output.weight tensor([[-0.3400,  0.4200],\n",
      "        [ 0.6200, -0.5200],\n",
      "        [ 0.6100,  0.1300]])\n",
      "hidden_to_output.bias tensor([0.5200, 0.1000, 0.3400])\n"
     ]
    }
   ],
   "source": [
    "# Create a model\n",
    "model = myNN()\n",
    "\n",
    "# Print the parameters just to show they're initialized properly\n",
    "for name, param in model.named_parameters():\n",
    "    print(name, torch.round(param.data, decimals=2))"
   ]
  },
  {
   "cell_type": "code",
   "execution_count": 12,
   "id": "630006d3-8bf0-4d80-b02a-e238d942a3df",
   "metadata": {
    "scrolled": true
   },
   "outputs": [
    {
     "name": "stderr",
     "output_type": "stream",
     "text": [
      "💡 Tip: For seamless cloud uploads and versioning, try installing [litmodels](https://pypi.org/project/litmodels/) to enable LitModelCheckpoint, which syncs automatically with the Lightning model registry.\n",
      "GPU available: False, used: False\n",
      "TPU available: False, using: 0 TPU cores\n",
      "HPU available: False, using: 0 HPUs\n",
      "/usr/local/lib/python3.13/site-packages/lightning/pytorch/trainer/connectors/logger_connector/logger_connector.py:76: Starting from v1.9.0, `tensorboardX` has been removed as a dependency of the `lightning.pytorch` package, due to potential conflicts with other packages in the ML ecosystem. For this reason, `logger=True` will use `CSVLogger` as the default logger, unless the `tensorboard` or `tensorboardX` packages are found. Please `pip install lightning[extra]` or one of them to enable TensorBoard support by default\n",
      "\n",
      "  | Name             | Type    | Params | Mode \n",
      "-----------------------------------------------------\n",
      "0 | input_to_hidden  | Linear  | 6      | train\n",
      "1 | hidden_to_output | Linear  | 9      | train\n",
      "2 | loss             | MSELoss | 0      | train\n",
      "-----------------------------------------------------\n",
      "15        Trainable params\n",
      "0         Non-trainable params\n",
      "15        Total params\n",
      "0.000     Total estimated model params size (MB)\n",
      "3         Modules in train mode\n",
      "0         Modules in eval mode\n",
      "/usr/local/lib/python3.13/site-packages/lightning/pytorch/trainer/connectors/data_connector.py:425: The 'train_dataloader' does not have many workers which may be a bottleneck. Consider increasing the value of the `num_workers` argument` to `num_workers=7` in the `DataLoader` to improve performance.\n"
     ]
    },
    {
     "name": "stdout",
     "output_type": "stream",
     "text": [
      "Epoch 9: 100%|██████████| 112/112 [00:00<00:00, 548.67it/s, v_num=9]"
     ]
    },
    {
     "name": "stderr",
     "output_type": "stream",
     "text": [
      "`Trainer.fit` stopped: `max_epochs=10` reached.\n"
     ]
    },
    {
     "name": "stdout",
     "output_type": "stream",
     "text": [
      "Epoch 9: 100%|██████████| 112/112 [00:00<00:00, 538.27it/s, v_num=9]\n"
     ]
    }
   ],
   "source": [
    "# Create a trainer object\n",
    "trainer = L.Trainer(max_epochs=10)\n",
    "trainer.fit(model, train_dataloaders=train_dataloader)"
   ]
  },
  {
   "cell_type": "markdown",
   "id": "a07653f9-bf50-483e-91e0-2fc6945d3fd3",
   "metadata": {},
   "source": [
    "## Evaluating Our Classification Results"
   ]
  },
  {
   "cell_type": "code",
   "execution_count": 13,
   "id": "5798d850-8c50-4ae6-90ef-586980b756d0",
   "metadata": {},
   "outputs": [
    {
     "data": {
      "text/plain": [
       "0.631578947368421"
      ]
     },
     "execution_count": 13,
     "metadata": {},
     "output_type": "execute_result"
    }
   ],
   "source": [
    "from sklearn.metrics import accuracy_score\n",
    "\n",
    "# Run the input_test_tensors through the neural network\n",
    "predictions = model(input_test_tensors)\n",
    "\n",
    "# Select the output with highest value.\n",
    "# If the prediction is [0.05, 1.5, 0.0] then the output is 1\n",
    "# dim=0 applies argmax to rows, dim=1 applies argmax to columns\n",
    "predicted_labels = torch.argmax(predictions, dim=1)\n",
    "\n",
    "# Calculate how many predictions are correct, i.e. accuracy\n",
    "accuracy_score(torch.tensor(label_test), predicted_labels)"
   ]
  },
  {
   "cell_type": "markdown",
   "id": "46225184-4498-489a-9503-3cacde2cf547",
   "metadata": {},
   "source": [
    "## Training Our Neural Net: Part 2\n",
    "**Lightning** creates _checkpoint_ files that keep track of the Weights and Biases as they change. As a result, all we have to do to pick up where we left off is tell the `Trainer` where the checkpoint files are. This will save us time since **we don't have to retrain the first 10 epochs**."
   ]
  },
  {
   "cell_type": "code",
   "execution_count": 14,
   "id": "0347b95a-5f15-4208-9940-fe626793ce76",
   "metadata": {},
   "outputs": [
    {
     "name": "stderr",
     "output_type": "stream",
     "text": [
      "💡 Tip: For seamless cloud uploads and versioning, try installing [litmodels](https://pypi.org/project/litmodels/) to enable LitModelCheckpoint, which syncs automatically with the Lightning model registry.\n",
      "GPU available: False, used: False\n",
      "TPU available: False, using: 0 TPU cores\n",
      "HPU available: False, using: 0 HPUs\n",
      "Restoring states from the checkpoint path at /notebooks/lightning_logs/version_9/checkpoints/epoch=9-step=1120.ckpt\n",
      "/usr/local/lib/python3.13/site-packages/lightning/pytorch/callbacks/model_checkpoint.py:366: The dirpath has changed from '/notebooks/lightning_logs/version_9/checkpoints' to '/notebooks/lightning_logs/version_10/checkpoints', therefore `best_model_score`, `kth_best_model_path`, `kth_value`, `last_model_path` and `best_k_models` won't be reloaded. Only `best_model_path` will be reloaded.\n",
      "\n",
      "  | Name             | Type    | Params | Mode \n",
      "-----------------------------------------------------\n",
      "0 | input_to_hidden  | Linear  | 6      | train\n",
      "1 | hidden_to_output | Linear  | 9      | train\n",
      "2 | loss             | MSELoss | 0      | train\n",
      "-----------------------------------------------------\n",
      "15        Trainable params\n",
      "0         Non-trainable params\n",
      "15        Total params\n",
      "0.000     Total estimated model params size (MB)\n",
      "3         Modules in train mode\n",
      "0         Modules in eval mode\n",
      "Restored all states from the checkpoint at /notebooks/lightning_logs/version_9/checkpoints/epoch=9-step=1120.ckpt\n",
      "/usr/local/lib/python3.13/site-packages/lightning/pytorch/trainer/connectors/data_connector.py:425: The 'train_dataloader' does not have many workers which may be a bottleneck. Consider increasing the value of the `num_workers` argument` to `num_workers=7` in the `DataLoader` to improve performance.\n"
     ]
    },
    {
     "name": "stdout",
     "output_type": "stream",
     "text": [
      "Epoch 23:  18%|█▊        | 20/112 [00:00<00:00, 454.30it/s, v_num=10] "
     ]
    },
    {
     "name": "stderr",
     "output_type": "stream",
     "text": [
      "IOPub message rate exceeded.\n",
      "The Jupyter server will temporarily stop sending output\n",
      "to the client in order to avoid crashing it.\n",
      "To change this limit, set the config variable\n",
      "`--ServerApp.iopub_msg_rate_limit`.\n",
      "\n",
      "Current values:\n",
      "ServerApp.iopub_msg_rate_limit=1000.0 (msgs/sec)\n",
      "ServerApp.rate_limit_window=3.0 (secs)\n",
      "\n"
     ]
    },
    {
     "name": "stdout",
     "output_type": "stream",
     "text": [
      "Epoch 249: 100%|██████████| 112/112 [00:00<00:00, 135.34it/s, v_num=10]"
     ]
    },
    {
     "name": "stderr",
     "output_type": "stream",
     "text": [
      "`Trainer.fit` stopped: `max_epochs=250` reached.\n"
     ]
    },
    {
     "name": "stdout",
     "output_type": "stream",
     "text": [
      "Epoch 249: 100%|██████████| 112/112 [00:00<00:00, 134.21it/s, v_num=10]\n"
     ]
    }
   ],
   "source": [
    "path_to_checkpoint = trainer.checkpoint_callback.best_model_path ## By default, \"best\" = \"most recent\"\n",
    "\n",
    "# First, create a new Lightning Trainer\n",
    "trainer = L.Trainer(max_epochs=250) # Before, max_epochs=10, so, by setting it to 200, we're adding 240 more.\n",
    "\n",
    "# Then call trainer.fit() using the path to the most recent checkpoint files\n",
    "# so that we can pick up where we left off.\n",
    "trainer.fit(model, train_dataloaders=train_dataloader, ckpt_path=path_to_checkpoint)"
   ]
  },
  {
   "cell_type": "markdown",
   "id": "42c8bc5e-4fa6-413b-a0f2-324c43eb805a",
   "metadata": {},
   "source": [
    "## Performance Increased!"
   ]
  },
  {
   "cell_type": "code",
   "execution_count": 15,
   "id": "3daf28d5-9b78-4ff3-9b39-5d43c3a2a4a7",
   "metadata": {},
   "outputs": [
    {
     "data": {
      "text/plain": [
       "0.8421052631578947"
      ]
     },
     "execution_count": 15,
     "metadata": {},
     "output_type": "execute_result"
    }
   ],
   "source": [
    "from sklearn.metrics import accuracy_score\n",
    "\n",
    "# Run the input_test_tensors through the neural network\n",
    "predictions = model(input_test_tensors)\n",
    "\n",
    "# Select the output with highest value.\n",
    "# If the prediction is [0.05, 1.5, 0.0] then the output is 1\n",
    "# dim=0 applies argmax to rows, dim=1 applies argmax to columns\n",
    "predicted_labels = torch.argmax(predictions, dim=1) \n",
    "\n",
    "# Calculate how many predictions are correct, i.e. accuracy\n",
    "accuracy_score(torch.tensor(label_test), predicted_labels)"
   ]
  },
  {
   "cell_type": "markdown",
   "id": "30102ef9-5efe-45f2-8fc1-3855163d865e",
   "metadata": {},
   "source": [
    "## Plug and Chug New Data"
   ]
  },
  {
   "cell_type": "code",
   "execution_count": 16,
   "id": "aa5075b1-6168-4c7d-b632-ac901f8dacbb",
   "metadata": {},
   "outputs": [
    {
     "data": {
      "text/plain": [
       "tensor([[ 0.0849,  1.0555, -0.4015]], grad_fn=<AddmmBackward0>)"
      ]
     },
     "execution_count": 16,
     "metadata": {},
     "output_type": "execute_result"
    }
   ],
   "source": [
    "# Hypothetical new data\n",
    "out_of_sample_data = pd.DataFrame({\n",
    "    'petal_width': [0.2],\n",
    "    'sepal_width': [3.0]\n",
    "})\n",
    "\n",
    "# Use the scaler that we fit with the training data\n",
    "normalized_out_of_sample_data = scaler.transform(out_of_sample_data)\n",
    "\n",
    "# Generate a prediction\n",
    "model(torch.tensor(normalized_out_of_sample_data).type(torch.float32))"
   ]
  }
 ],
 "metadata": {
  "kernelspec": {
   "display_name": "Python 3 (ipykernel)",
   "language": "python",
   "name": "python3"
  },
  "language_info": {
   "codemirror_mode": {
    "name": "ipython",
    "version": 3
   },
   "file_extension": ".py",
   "mimetype": "text/x-python",
   "name": "python",
   "nbconvert_exporter": "python",
   "pygments_lexer": "ipython3",
   "version": "3.13.5"
  }
 },
 "nbformat": 4,
 "nbformat_minor": 5
}
