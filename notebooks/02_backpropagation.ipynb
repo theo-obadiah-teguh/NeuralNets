{
 "cells": [
  {
   "cell_type": "markdown",
   "id": "81059b0c-b61b-471b-b525-986e102ce497",
   "metadata": {},
   "source": [
    "# SIGNA Chapter 2 Implementation"
   ]
  }
 ],
 "metadata": {
  "kernelspec": {
   "display_name": "Python 3 (ipykernel)",
   "language": "python",
   "name": "python3"
  },
  "language_info": {
   "codemirror_mode": {
    "name": "ipython",
    "version": 3
   },
   "file_extension": ".py",
   "mimetype": "text/x-python",
   "name": "python",
   "nbconvert_exporter": "python",
   "pygments_lexer": "ipython3",
   "version": "3.13.5"
  }
 },
 "nbformat": 4,
 "nbformat_minor": 5
}
