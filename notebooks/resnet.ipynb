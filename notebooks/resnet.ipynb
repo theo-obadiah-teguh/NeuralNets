{
 "cells": [
  {
   "cell_type": "markdown",
   "id": "bad30df5-0e4a-4ff0-87f8-f38ce443ced5",
   "metadata": {},
   "source": [
    "# ResNet Implementation"
   ]
  },
  {
   "cell_type": "code",
   "execution_count": null,
   "id": "749f4a89-0447-4d82-8551-4b025940cef4",
   "metadata": {},
   "outputs": [],
   "source": [
    "import torch\n",
    "import torch.nn as nn"
   ]
  },
  {
   "cell_type": "markdown",
   "id": "e6c6d5ed-99d5-453b-bbb3-dbf97583c22e",
   "metadata": {},
   "source": [
    "## Basic Building Block"
   ]
  },
  {
   "cell_type": "code",
   "execution_count": null,
   "id": "ec7feaee-98f5-47ca-9080-0129e5fc80ef",
   "metadata": {},
   "outputs": [],
   "source": [
    "class BasicBlock(nn.Module):\n",
    "    \"\"\"\n",
    "    This class implements the basic building blocks of ResNet.\n",
    "    A building block has two methods:\n",
    "    > __init__() which constructs the block itself\n",
    "    > forward() which explains how inputs are processed by the block.\\\n",
    "    \"\"\"\n",
    "    def __init__(self):\n",
    "        # Call the super class initializer\n",
    "        super().__init__()\n",
    "        return\n",
    "\n",
    "    def forward():\n",
    "        return"
   ]
  }
 ],
 "metadata": {
  "kernelspec": {
   "display_name": "Python 3 (ipykernel)",
   "language": "python",
   "name": "python3"
  },
  "language_info": {
   "codemirror_mode": {
    "name": "ipython",
    "version": 3
   },
   "file_extension": ".py",
   "mimetype": "text/x-python",
   "name": "python",
   "nbconvert_exporter": "python",
   "pygments_lexer": "ipython3",
   "version": "3.13.5"
  }
 },
 "nbformat": 4,
 "nbformat_minor": 5
}
