{
 "cells": [
  {
   "cell_type": "markdown",
   "id": "81059b0c-b61b-471b-b525-986e102ce497",
   "metadata": {},
   "source": [
    "# SIGNA Chapter 2 Implementation\n",
    "This notebook basically goes through backpropagation 101. We will try to optimize the same architecture we used in the previous notebook."
   ]
  },
  {
   "cell_type": "code",
   "execution_count": 1,
   "id": "bcbea2b1",
   "metadata": {},
   "outputs": [],
   "source": [
    "import torch\n",
    "import torch.nn as nn ## Gives us nn.Module()\n",
    "import torch.nn.functional as F # Gives us relu()\n",
    "from torch.optim import SGD # Note here we'll use SGD like traditional GD\n",
    "\n",
    "import lightning as L ## New thing!\n",
    "from torch.utils.data import TensorDataset, DataLoader ## We'll store our data in DataLoaders"
   ]
  },
  {
   "cell_type": "markdown",
   "id": "0d6d1c69",
   "metadata": {},
   "source": [
    "## Desigining Our Neural Net\n",
    "The architecture should do the following things.\n",
    "1. Start with random initial weights and biases.\n",
    "2. Generate an output \"propagating forward\" (i.e. an epoch), and calculate the gradient of our Empirical Loss (MSE in our case) w.r.t. a weight/bias.\n",
    "3. Use this gradient and the learning rate parameter to calculate a step size via SGD.\n",
    "4. Use the step size to calculate new weights, which will \"propagate backward\" (hence why we call it backpropagation).\n",
    "5. Repeat this process until the weights and biases are optimized."
   ]
  },
  {
   "cell_type": "code",
   "execution_count": 2,
   "id": "9a581082",
   "metadata": {},
   "outputs": [],
   "source": [
    "class myNN(L.LightningModule):\n",
    "    def __init__(self):\n",
    "        # Kinda like a constructor where we initialize varibles\n",
    "        # Start by calling the superclass initializer\n",
    "        super().__init__()\n",
    "\n",
    "        # Intialize random weights and biases\n",
    "        # Note, that here I'm just following the book, and bias usually starts at zero\n",
    "        self.w1 = nn.Parameter(torch.tensor(0.06))\n",
    "        self.b1 = nn.Parameter(torch.tensor(0.0))\n",
    "\n",
    "        self.w2 = nn.Parameter(torch.tensor(3.49))\n",
    "        self.b2 = nn.Parameter(torch.tensor(0.0))\n",
    "\n",
    "        self.w3 = nn.Parameter(torch.tensor(-4.11))\n",
    "        self.w4 = nn.Parameter(torch.tensor(2.74))\n",
    "\n",
    "        # Define the empirical loss function of choice\n",
    "        self.loss = nn.MSELoss(reduction=\"sum\")\n",
    "\n",
    "    def forward(self, input_values):\n",
    "        # This method runs inputs through the network to make a prediction\n",
    "        # This code is identical to the previous notebook\n",
    "        top_x_axis_values = input_values * self.w1 + self.b1\n",
    "        top_y_axis_values = F.relu(top_x_axis_values)\n",
    "\n",
    "        bottom_x_axis_values = input_values * self.w2 + self.b2\n",
    "        bottom_y_axis_values = F.relu(bottom_x_axis_values)\n",
    "\n",
    "        output_values = top_y_axis_values * self.w3 + bottom_y_axis_values * self.w4\n",
    "        return output_values\n",
    "\n",
    "    def configure_optimizers(self):\n",
    "        # New method which deals with the learning rate and optimization algorithm\n",
    "        # Perform gradient descent on the params, with learning rate 0.01\n",
    "        return SGD(self.parameters(), lr=0.01)\n",
    "    \n",
    "    def training_step(self, batch, batch_idx):\n",
    "        # This method basically runs one epoch\n",
    "        # Pass training data to forward() and calculate residuals\n",
    "        inputs, labels = batch\n",
    "        outputs = self.forward(inputs)\n",
    "        loss = self.loss(outputs, labels)\n",
    "        return loss"
   ]
  },
  {
   "cell_type": "markdown",
   "id": "32394a5e",
   "metadata": {},
   "source": [
    "## Creating Training Data"
   ]
  },
  {
   "cell_type": "code",
   "execution_count": 3,
   "id": "c7184b06",
   "metadata": {},
   "outputs": [],
   "source": [
    "# Generate some inputs and labels (i.e. true outcomes)\n",
    "training_inputs = torch.tensor([0.0, 0.5, 1.0])\n",
    "training_labels = torch.tensor([0.0, 1.0, 0.0])\n",
    "\n",
    "# Package everything up into a DataLoader\n",
    "training_dataset = TensorDataset(training_inputs, training_labels)\n",
    "dataloader = DataLoader(training_dataset)"
   ]
  },
  {
   "cell_type": "markdown",
   "id": "4464be65",
   "metadata": {},
   "source": [
    "## Training the Model"
   ]
  },
  {
   "cell_type": "code",
   "execution_count": 4,
   "id": "bc2110a6-b09e-4c17-829f-82091f909daf",
   "metadata": {},
   "outputs": [
    {
     "name": "stdout",
     "output_type": "stream",
     "text": [
      "w1 tensor(0.0600)\n",
      "b1 tensor(0.)\n",
      "w2 tensor(3.4900)\n",
      "b2 tensor(0.)\n",
      "w3 tensor(-4.1100)\n",
      "w4 tensor(2.7400)\n"
     ]
    }
   ],
   "source": [
    "# Create a model\n",
    "model = myNN()\n",
    "\n",
    "# Print the parameters just to show they're initialized properly\n",
    "for name, param in model.named_parameters():\n",
    "    print(name, torch.round(param.data, decimals=2))"
   ]
  },
  {
   "cell_type": "code",
   "execution_count": 5,
   "id": "6c751682-fa29-40d7-8d2e-6d79d9af1381",
   "metadata": {},
   "outputs": [
    {
     "name": "stderr",
     "output_type": "stream",
     "text": [
      "GPU available: False, used: False\n",
      "TPU available: False, using: 0 TPU cores\n",
      "HPU available: False, using: 0 HPUs\n",
      "\n",
      "  | Name         | Type    | Params | Mode \n",
      "-------------------------------------------------\n",
      "0 | loss         | MSELoss | 0      | train\n",
      "  | other params | n/a     | 6      | n/a  \n",
      "-------------------------------------------------\n",
      "6         Trainable params\n",
      "0         Non-trainable params\n",
      "6         Total params\n",
      "0.000     Total estimated model params size (MB)\n",
      "1         Modules in train mode\n",
      "0         Modules in eval mode\n",
      "/usr/local/lib/python3.13/site-packages/lightning/pytorch/trainer/connectors/data_connector.py:425: The 'train_dataloader' does not have many workers which may be a bottleneck. Consider increasing the value of the `num_workers` argument` to `num_workers=7` in the `DataLoader` to improve performance.\n",
      "`Trainer.fit` stopped: `max_epochs=500` reached.\n"
     ]
    }
   ],
   "source": [
    "# Create a trainer object\n",
    "trainer = L.Trainer(max_epochs=500, # essentially how many times we call training_step()\n",
    "                    logger=False,\n",
    "                    enable_checkpointing=False,\n",
    "                    enable_progress_bar=False)\n",
    "\n",
    "trainer.fit(model, train_dataloaders=dataloader)"
   ]
  },
  {
   "cell_type": "markdown",
   "id": "0d260b5a",
   "metadata": {},
   "source": [
    "## Plug and Chug"
   ]
  },
  {
   "cell_type": "code",
   "execution_count": 6,
   "id": "4780578e",
   "metadata": {},
   "outputs": [
    {
     "data": {
      "text/plain": [
       "tensor([0.0000, 0.0200, 0.4500, 0.8700, 1.2000, 1.0000, 0.8000, 0.6000, 0.4000,\n",
       "        0.2000, 0.0000], grad_fn=<RoundBackward1>)"
      ]
     },
     "execution_count": 6,
     "metadata": {},
     "output_type": "execute_result"
    }
   ],
   "source": [
    "# Create the different doses we want to run through the neural network.\n",
    "# torch.linspace() creates the sequence of numbers between, and including, 0 and 1.\n",
    "# So this is 0.0, 0.1, ..., 1.0\n",
    "input_doses = torch.linspace(start=0, end=1, steps=11)\n",
    "\n",
    "# Optionally, we can round the output values to match the scale we want\n",
    "torch.round(model(input_doses), decimals=2)"
   ]
  },
  {
   "cell_type": "code",
   "execution_count": 7,
   "id": "a1ade4a3-7966-45da-aa97-b5722874b448",
   "metadata": {},
   "outputs": [
    {
     "name": "stdout",
     "output_type": "stream",
     "text": [
      "w1 tensor(1.4800)\n",
      "b1 tensor(-0.5700)\n",
      "w2 tensor(2.7000)\n",
      "b2 tensor(-0.2600)\n",
      "w3 tensor(-4.2400)\n",
      "w4 tensor(1.5800)\n"
     ]
    }
   ],
   "source": [
    "# Notice that the parameters have also changed.\n",
    "for name, param in model.named_parameters():\n",
    "    print(name, torch.round(param.data, decimals=2))"
   ]
  }
 ],
 "metadata": {
  "kernelspec": {
   "display_name": "Python 3 (ipykernel)",
   "language": "python",
   "name": "python3"
  },
  "language_info": {
   "codemirror_mode": {
    "name": "ipython",
    "version": 3
   },
   "file_extension": ".py",
   "mimetype": "text/x-python",
   "name": "python",
   "nbconvert_exporter": "python",
   "pygments_lexer": "ipython3",
   "version": "3.13.5"
  }
 },
 "nbformat": 4,
 "nbformat_minor": 5
}
