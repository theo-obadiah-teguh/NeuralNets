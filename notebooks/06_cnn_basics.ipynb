{
 "cells": [
  {
   "cell_type": "markdown",
   "id": "64097a0d-b987-435e-bda3-79146f23b055",
   "metadata": {},
   "source": [
    "# SIGNA Chapter 6 Implementation"
   ]
  }
 ],
 "metadata": {
  "kernelspec": {
   "display_name": "Python 3 (ipykernel)",
   "language": "python",
   "name": "python3"
  },
  "language_info": {
   "codemirror_mode": {
    "name": "ipython",
    "version": 3
   },
   "file_extension": ".py",
   "mimetype": "text/x-python",
   "name": "python",
   "nbconvert_exporter": "python",
   "pygments_lexer": "ipython3",
   "version": "3.13.5"
  }
 },
 "nbformat": 4,
 "nbformat_minor": 5
}
