{
 "cells": [
  {
   "cell_type": "markdown",
   "id": "8150e410",
   "metadata": {},
   "source": [
    "# SIGNA Chapter 1 Implementation\n",
    "This notebook implements a single hidden layer ANN, provided that we are given optimal weights, i.e. we don't use backpropagation here just yet."
   ]
  },
  {
   "cell_type": "code",
   "execution_count": null,
   "id": "a3f7392f",
   "metadata": {
    "vscode": {
     "languageId": "plaintext"
    }
   },
   "outputs": [],
   "source": []
  }
 ],
 "metadata": {
  "language_info": {
   "name": "python"
  }
 },
 "nbformat": 4,
 "nbformat_minor": 5
}
